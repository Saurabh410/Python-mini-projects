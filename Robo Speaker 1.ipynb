{
 "cells": [
  {
   "cell_type": "code",
   "execution_count": null,
   "id": "ad6ced56",
   "metadata": {},
   "outputs": [],
   "source": []
  },
  {
   "cell_type": "code",
   "execution_count": 1,
   "id": "cb61d8f7",
   "metadata": {},
   "outputs": [],
   "source": [
    "import win32com.client as wincom"
   ]
  },
  {
   "cell_type": "code",
   "execution_count": 2,
   "id": "59a6e8ba",
   "metadata": {},
   "outputs": [
    {
     "name": "stdout",
     "output_type": "stream",
     "text": [
      "welcome to robo speaker created by saurabh\n",
      "enter the sentence what you want to speak:q\n"
     ]
    }
   ],
   "source": [
    "speak=wincom.Dispatch(\"SAPI.spVoice\")\n",
    "print(\"welcome to robo speaker created by saurabh\")\n",
    "while True:\n",
    "    x=input(\"enter the sentence what you want to speak:\")\n",
    "    if x == 'q':\n",
    "        speak.Speak(\"bye bye friend\")\n",
    "        break\n",
    "    command=x\n",
    "    speak.Speak(command)"
   ]
  },
  {
   "cell_type": "code",
   "execution_count": null,
   "id": "7931a33e",
   "metadata": {},
   "outputs": [],
   "source": []
  }
 ],
 "metadata": {
  "kernelspec": {
   "display_name": "Python 3 (ipykernel)",
   "language": "python",
   "name": "python3"
  },
  "language_info": {
   "codemirror_mode": {
    "name": "ipython",
    "version": 3
   },
   "file_extension": ".py",
   "mimetype": "text/x-python",
   "name": "python",
   "nbconvert_exporter": "python",
   "pygments_lexer": "ipython3",
   "version": "3.9.12"
  }
 },
 "nbformat": 4,
 "nbformat_minor": 5
}
